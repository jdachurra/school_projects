{
 "cells": [
  {
   "cell_type": "code",
   "execution_count": null,
   "id": "a8aff269",
   "metadata": {},
   "outputs": [],
   "source": [
    "import numpy as np\n",
    "import matplotlib.pyplot as plt\n",
    "from scipy.fftpack import fft,dct\n",
    "import librosa\n",
    "from scipy import signal\n",
    "import librosa.display\n",
    "import soundfile as sf\n",
    "import sounddevice as sd"
   ]
  },
  {
   "cell_type": "markdown",
   "id": "3c27499d",
   "metadata": {},
   "source": [
    "### 1. Constant-Q spectrogram and chromagram (1 point)"
   ]
  },
  {
   "cell_type": "markdown",
   "id": "31b776b1",
   "metadata": {},
   "source": [
    "#### a) Load 'brahms_hungarian_dance_5_short.wav'"
   ]
  },
  {
   "cell_type": "code",
   "execution_count": null,
   "id": "aeae3f2f",
   "metadata": {},
   "outputs": [],
   "source": []
  },
  {
   "cell_type": "markdown",
   "id": "cba3e0cf",
   "metadata": {},
   "source": [
    "#### b) Calculate the spectrogram"
   ]
  },
  {
   "cell_type": "code",
   "execution_count": null,
   "id": "0f6a129f",
   "metadata": {},
   "outputs": [],
   "source": []
  },
  {
   "cell_type": "markdown",
   "id": "257e66b0",
   "metadata": {},
   "source": [
    "#### c) Calculate the constant-Q spectrogram"
   ]
  },
  {
   "cell_type": "code",
   "execution_count": null,
   "id": "fd2a1543",
   "metadata": {},
   "outputs": [],
   "source": []
  },
  {
   "cell_type": "markdown",
   "id": "773bb2e2",
   "metadata": {},
   "source": [
    "#### d) Calculate the chromagram"
   ]
  },
  {
   "cell_type": "code",
   "execution_count": null,
   "id": "87ca6bd3",
   "metadata": {},
   "outputs": [],
   "source": []
  },
  {
   "cell_type": "markdown",
   "id": "438e4573",
   "metadata": {},
   "source": [
    "#### e) Plot, observe and report differences."
   ]
  },
  {
   "cell_type": "code",
   "execution_count": null,
   "id": "cb5c9d14",
   "metadata": {},
   "outputs": [],
   "source": []
  },
  {
   "cell_type": "markdown",
   "id": "b4def427",
   "metadata": {},
   "source": [
    "### 2. Onset detection (1 point)"
   ]
  },
  {
   "cell_type": "markdown",
   "id": "9592b7a3",
   "metadata": {},
   "source": [
    "#### a.1) load the audio file"
   ]
  },
  {
   "cell_type": "code",
   "execution_count": null,
   "id": "c39bf4bc",
   "metadata": {},
   "outputs": [],
   "source": []
  },
  {
   "cell_type": "markdown",
   "id": "83237651",
   "metadata": {},
   "source": [
    "#### a.2) Compute spectral novelty function"
   ]
  },
  {
   "cell_type": "code",
   "execution_count": null,
   "id": "43b7f5bb",
   "metadata": {},
   "outputs": [],
   "source": []
  },
  {
   "cell_type": "markdown",
   "id": "f374d906",
   "metadata": {},
   "source": [
    "#### a.3) Pick peaks"
   ]
  },
  {
   "cell_type": "code",
   "execution_count": null,
   "id": "bccf2d51",
   "metadata": {},
   "outputs": [],
   "source": []
  },
  {
   "cell_type": "markdown",
   "id": "67869e02",
   "metadata": {},
   "source": [
    "#### a.4) Convert frame indexes into time indexes"
   ]
  },
  {
   "cell_type": "code",
   "execution_count": null,
   "id": "a7b91991",
   "metadata": {},
   "outputs": [],
   "source": []
  },
  {
   "cell_type": "markdown",
   "id": "09ba5510",
   "metadata": {},
   "source": [
    "#### a.5) Plot onsets on top of the time domain signal. Report observations."
   ]
  },
  {
   "cell_type": "code",
   "execution_count": null,
   "id": "f1b2bc5e",
   "metadata": {},
   "outputs": [],
   "source": []
  },
  {
   "cell_type": "markdown",
   "id": "90520eca",
   "metadata": {},
   "source": [
    "#### a.6) Plot onsets on top of the spectrogram. Report observations."
   ]
  },
  {
   "cell_type": "code",
   "execution_count": null,
   "id": "fb7c8eca",
   "metadata": {},
   "outputs": [],
   "source": []
  },
  {
   "cell_type": "markdown",
   "id": "b0e8502e",
   "metadata": {},
   "source": [
    "### Add clicks to the onsets"
   ]
  },
  {
   "cell_type": "markdown",
   "id": "faf61cc3",
   "metadata": {},
   "source": [
    "#### b.1) Create a signal consisting of clicks at specified locations."
   ]
  },
  {
   "cell_type": "code",
   "execution_count": null,
   "id": "4dca1e0f",
   "metadata": {},
   "outputs": [],
   "source": []
  },
  {
   "cell_type": "markdown",
   "id": "a4d78901",
   "metadata": {},
   "source": [
    "#### b.2) Add the two signals together."
   ]
  },
  {
   "cell_type": "code",
   "execution_count": null,
   "id": "24d57b02",
   "metadata": {},
   "outputs": [],
   "source": []
  },
  {
   "cell_type": "markdown",
   "id": "9318d34d",
   "metadata": {},
   "source": [
    "#### b.2) Play it."
   ]
  },
  {
   "cell_type": "code",
   "execution_count": null,
   "id": "53ad418e",
   "metadata": {},
   "outputs": [],
   "source": []
  },
  {
   "cell_type": "markdown",
   "id": "24c7d0c7",
   "metadata": {},
   "source": [
    "#### b.3) Stack them to create stereo signal."
   ]
  },
  {
   "cell_type": "code",
   "execution_count": null,
   "id": "47b8340d",
   "metadata": {},
   "outputs": [],
   "source": []
  },
  {
   "cell_type": "markdown",
   "id": "2787d615",
   "metadata": {},
   "source": [
    "#### b.3) Play it."
   ]
  },
  {
   "cell_type": "code",
   "execution_count": null,
   "id": "390982c7",
   "metadata": {},
   "outputs": [],
   "source": []
  },
  {
   "cell_type": "markdown",
   "id": "79c9ba64",
   "metadata": {},
   "source": [
    "### Bonus problem: Implement your own spectral novelty function"
   ]
  },
  {
   "cell_type": "code",
   "execution_count": null,
   "id": "d59c489a",
   "metadata": {},
   "outputs": [],
   "source": []
  }
 ],
 "metadata": {
  "kernelspec": {
   "display_name": "Python 3",
   "language": "python",
   "name": "python3"
  },
  "language_info": {
   "codemirror_mode": {
    "name": "ipython",
    "version": 3
   },
   "file_extension": ".py",
   "mimetype": "text/x-python",
   "name": "python",
   "nbconvert_exporter": "python",
   "pygments_lexer": "ipython3",
   "version": "3.9.13"
  }
 },
 "nbformat": 4,
 "nbformat_minor": 5
}
