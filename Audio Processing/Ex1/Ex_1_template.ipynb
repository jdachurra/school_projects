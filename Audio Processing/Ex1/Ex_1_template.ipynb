{
 "cells": [
  {
   "cell_type": "code",
   "execution_count": null,
   "id": "d2e56511",
   "metadata": {},
   "outputs": [],
   "source": [
    "# Import the libraries\n",
    "import numpy as np\n",
    "import matplotlib.pyplot as plt\n",
    "from scipy.fftpack import fft\n",
    "from scipy import signal\n",
    "import sounddevice as sd\n",
    "import soundfile as sf"
   ]
  },
  {
   "cell_type": "code",
   "execution_count": null,
   "id": "7471e1f2",
   "metadata": {},
   "outputs": [],
   "source": [
    "def create_sin_waves():\n",
    "    '''\n",
    "    A function to create sin wave\n",
    "    '''\n"
   ]
  },
  {
   "cell_type": "markdown",
   "id": "9ac697a7",
   "metadata": {},
   "source": [
    "### 1. Create a synthetic signal as a sum of sinusoids (1 point)"
   ]
  },
  {
   "cell_type": "markdown",
   "id": "11380c70",
   "metadata": {},
   "source": [
    "#### a) create sinusoids with chosen amplitudes and phases"
   ]
  },
  {
   "cell_type": "code",
   "execution_count": null,
   "id": "f89c6064",
   "metadata": {},
   "outputs": [],
   "source": []
  },
  {
   "cell_type": "markdown",
   "id": "65db9534",
   "metadata": {},
   "source": [
    "#### b.1) Play sinusoids"
   ]
  },
  {
   "cell_type": "code",
   "execution_count": null,
   "id": "284887d0",
   "metadata": {},
   "outputs": [],
   "source": [
    "sd.play(x,fs)"
   ]
  },
  {
   "cell_type": "markdown",
   "id": "992cd06d",
   "metadata": {},
   "source": [
    "#### b.2) Plot sinusoids (only first 200 samples are displayed for better visualization)"
   ]
  },
  {
   "cell_type": "code",
   "execution_count": null,
   "id": "e2bc3b13",
   "metadata": {},
   "outputs": [],
   "source": []
  },
  {
   "cell_type": "markdown",
   "id": "443ca71c",
   "metadata": {},
   "source": [
    "#### c) Add them up to x(t). Plot and play x(t). Write the signal to a wav file."
   ]
  },
  {
   "cell_type": "code",
   "execution_count": null,
   "id": "74dcd777",
   "metadata": {},
   "outputs": [],
   "source": []
  },
  {
   "cell_type": "markdown",
   "id": "4111265c",
   "metadata": {},
   "source": [
    "#### d) Apply DFT with nfft= 512"
   ]
  },
  {
   "cell_type": "code",
   "execution_count": null,
   "id": "aea87dba",
   "metadata": {},
   "outputs": [],
   "source": []
  },
  {
   "cell_type": "markdown",
   "id": "765b7e00",
   "metadata": {},
   "source": [
    "#### d.1) Apply DFT with nfft= 258"
   ]
  },
  {
   "cell_type": "code",
   "execution_count": null,
   "id": "da991353",
   "metadata": {},
   "outputs": [],
   "source": []
  },
  {
   "cell_type": "markdown",
   "id": "83edb471",
   "metadata": {},
   "source": [
    "#### d.2) Apply DFT with nfft= signal length"
   ]
  },
  {
   "cell_type": "code",
   "execution_count": null,
   "id": "a39156ee",
   "metadata": {},
   "outputs": [],
   "source": []
  },
  {
   "cell_type": "markdown",
   "id": "38faad6d",
   "metadata": {},
   "source": [
    "#### e) Observe the components and relationship between nfft and frequency in Hz. Report your observation"
   ]
  },
  {
   "cell_type": "code",
   "execution_count": null,
   "id": "21fc7626",
   "metadata": {},
   "outputs": [],
   "source": []
  },
  {
   "cell_type": "markdown",
   "id": "c9ec3143",
   "metadata": {},
   "source": [
    "### 2. Read an audio and observe the spectrum. (1 point)"
   ]
  },
  {
   "cell_type": "markdown",
   "id": "6f0fee5e",
   "metadata": {},
   "source": [
    "#### a) Read 'audio1.wav' "
   ]
  },
  {
   "cell_type": "code",
   "execution_count": null,
   "id": "5fd9ef85",
   "metadata": {},
   "outputs": [],
   "source": []
  },
  {
   "cell_type": "markdown",
   "id": "a5af7787",
   "metadata": {},
   "source": [
    "#### a.1) Play"
   ]
  },
  {
   "cell_type": "code",
   "execution_count": null,
   "id": "b87e5b8f",
   "metadata": {},
   "outputs": [],
   "source": []
  },
  {
   "cell_type": "markdown",
   "id": "af66c225",
   "metadata": {},
   "source": [
    "#### a.2) Plot"
   ]
  },
  {
   "cell_type": "code",
   "execution_count": null,
   "id": "789e67ee",
   "metadata": {},
   "outputs": [],
   "source": []
  },
  {
   "cell_type": "markdown",
   "id": "f6778c75",
   "metadata": {},
   "source": [
    "#### a.3) Read 'audio2.wav' "
   ]
  },
  {
   "cell_type": "code",
   "execution_count": null,
   "id": "3af3ac02",
   "metadata": {},
   "outputs": [],
   "source": []
  },
  {
   "cell_type": "markdown",
   "id": "a55ca70a",
   "metadata": {},
   "source": [
    "#### a.4) Play"
   ]
  },
  {
   "cell_type": "code",
   "execution_count": null,
   "id": "35093db1",
   "metadata": {},
   "outputs": [],
   "source": []
  },
  {
   "cell_type": "markdown",
   "id": "29421b1a",
   "metadata": {},
   "source": [
    "#### a.5) Plot"
   ]
  },
  {
   "cell_type": "code",
   "execution_count": null,
   "id": "e432dd1e",
   "metadata": {},
   "outputs": [],
   "source": []
  },
  {
   "cell_type": "markdown",
   "id": "9086cbe6",
   "metadata": {},
   "source": [
    "#### c,d) Compute DFT in a loop for 'audio1.wav' "
   ]
  },
  {
   "cell_type": "code",
   "execution_count": null,
   "id": "8e900e83",
   "metadata": {},
   "outputs": [],
   "source": []
  },
  {
   "cell_type": "markdown",
   "id": "1856f84f",
   "metadata": {},
   "source": [
    "#### c,d) Compute DFT in a loop for 'audio2.wav' "
   ]
  },
  {
   "cell_type": "code",
   "execution_count": null,
   "id": "315530f5",
   "metadata": {},
   "outputs": [],
   "source": []
  },
  {
   "cell_type": "markdown",
   "id": "0d345080",
   "metadata": {},
   "source": [
    "#### e) How does the spectrum of these signals differ from that of sum of sinusoids? "
   ]
  },
  {
   "cell_type": "code",
   "execution_count": null,
   "id": "52b59276",
   "metadata": {},
   "outputs": [],
   "source": []
  },
  {
   "cell_type": "markdown",
   "id": "823e8099",
   "metadata": {},
   "source": [
    "### Bonus problem:"
   ]
  },
  {
   "cell_type": "code",
   "execution_count": null,
   "id": "2c0ee829",
   "metadata": {},
   "outputs": [],
   "source": []
  }
 ],
 "metadata": {
  "kernelspec": {
   "display_name": "Python 3",
   "language": "python",
   "name": "python3"
  },
  "language_info": {
   "codemirror_mode": {
    "name": "ipython",
    "version": 3
   },
   "file_extension": ".py",
   "mimetype": "text/x-python",
   "name": "python",
   "nbconvert_exporter": "python",
   "pygments_lexer": "ipython3",
   "version": "3.6.13"
  }
 },
 "nbformat": 4,
 "nbformat_minor": 5
}
