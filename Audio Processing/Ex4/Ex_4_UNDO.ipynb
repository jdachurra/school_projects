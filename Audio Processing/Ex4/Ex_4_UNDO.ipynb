{
 "cells": [
  {
   "cell_type": "code",
   "execution_count": 7,
   "id": "e009da26",
   "metadata": {},
   "outputs": [
    {
     "ename": "ImportError",
     "evalue": "cannot import name 'Sequence' from 'collections' (c:\\Users\\Mihai\\anaconda3\\Lib\\collections\\__init__.py)",
     "output_type": "error",
     "traceback": [
      "\u001b[1;31m---------------------------------------------------------------------------\u001b[0m",
      "\u001b[1;31mImportError\u001b[0m                               Traceback (most recent call last)",
      "Cell \u001b[1;32mIn[7], line 8\u001b[0m\n\u001b[0;32m      5\u001b[0m \u001b[38;5;28;01mimport\u001b[39;00m \u001b[38;5;21;01msounddevice\u001b[39;00m \u001b[38;5;28;01mas\u001b[39;00m \u001b[38;5;21;01msd\u001b[39;00m\n\u001b[0;32m      6\u001b[0m \u001b[38;5;28;01mfrom\u001b[39;00m \u001b[38;5;21;01mscipy\u001b[39;00m\u001b[38;5;21;01m.\u001b[39;00m\u001b[38;5;21;01msignal\u001b[39;00m \u001b[38;5;28;01mimport\u001b[39;00m hann, hamming\n\u001b[1;32m----> 8\u001b[0m \u001b[38;5;28;01mfrom\u001b[39;00m \u001b[38;5;21;01maudiolazy\u001b[39;00m \u001b[38;5;28;01mimport\u001b[39;00m lazy_lpc \u001b[38;5;28;01mas\u001b[39;00m lpc\n",
      "File \u001b[1;32mc:\\Users\\Mihai\\anaconda3\\Lib\\site-packages\\audiolazy\\__init__.py:67\u001b[0m\n\u001b[0;32m     16\u001b[0m \u001b[38;5;124;03m\"\"\"\u001b[39;00m\n\u001b[0;32m     17\u001b[0m \u001b[38;5;124;03mAudioLazy package\u001b[39;00m\n\u001b[0;32m     18\u001b[0m \n\u001b[1;32m   (...)\u001b[0m\n\u001b[0;32m     61\u001b[0m \u001b[38;5;124;03munder the terms of the GPLv3.\u001b[39;00m\n\u001b[0;32m     62\u001b[0m \u001b[38;5;124;03m\"\"\"\u001b[39;00m\n\u001b[0;32m     64\u001b[0m \u001b[38;5;66;03m# Some dunders and summary docstrings initialization\u001b[39;00m\n\u001b[0;32m     65\u001b[0m __modules__, __all__, \u001b[38;5;18m__doc__\u001b[39m \u001b[38;5;241m=\u001b[39m \\\n\u001b[0;32m     66\u001b[0m   \u001b[38;5;28m__import__\u001b[39m(\u001b[38;5;18m__name__\u001b[39m \u001b[38;5;241m+\u001b[39m \u001b[38;5;124m\"\u001b[39m\u001b[38;5;124m._internals\u001b[39m\u001b[38;5;124m\"\u001b[39m, fromlist\u001b[38;5;241m=\u001b[39m[\u001b[38;5;18m__name__\u001b[39m]\n\u001b[1;32m---> 67\u001b[0m             )\u001b[38;5;241m.\u001b[39minit_package(__path__, \u001b[38;5;18m__name__\u001b[39m, \u001b[38;5;18m__doc__\u001b[39m)\n\u001b[0;32m     69\u001b[0m \u001b[38;5;66;03m# Import all modules contents to the main namespace\u001b[39;00m\n\u001b[0;32m     70\u001b[0m exec((\u001b[38;5;124m\"\u001b[39m\u001b[38;5;124mfrom .\u001b[39m\u001b[38;5;132;01m{}\u001b[39;00m\u001b[38;5;124m import *\u001b[39m\u001b[38;5;130;01m\\n\u001b[39;00m\u001b[38;5;124m\"\u001b[39m \u001b[38;5;241m*\u001b[39m \u001b[38;5;28mlen\u001b[39m(__modules__))\u001b[38;5;241m.\u001b[39mformat(\u001b[38;5;241m*\u001b[39m__modules__))\n",
      "File \u001b[1;32mc:\\Users\\Mihai\\anaconda3\\Lib\\site-packages\\audiolazy\\_internals.py:117\u001b[0m, in \u001b[0;36minit_package\u001b[1;34m(package_path, package_name, docstring)\u001b[0m\n\u001b[0;32m    102\u001b[0m \u001b[38;5;250m\u001b[39m\u001b[38;5;124;03m\"\"\"\u001b[39;00m\n\u001b[0;32m    103\u001b[0m \u001b[38;5;124;03mPackage initialization, to be called only by ``__init__.py``.\u001b[39;00m\n\u001b[0;32m    104\u001b[0m \n\u001b[1;32m   (...)\u001b[0m\n\u001b[0;32m    114\u001b[0m \u001b[38;5;124;03mused by the package to import every module into the main package namespace.\u001b[39;00m\n\u001b[0;32m    115\u001b[0m \u001b[38;5;124;03m\"\"\"\u001b[39;00m\n\u001b[0;32m    116\u001b[0m module_names \u001b[38;5;241m=\u001b[39m get_module_names(package_path)\n\u001b[1;32m--> 117\u001b[0m modules \u001b[38;5;241m=\u001b[39m get_modules(package_name, module_names)\n\u001b[0;32m    118\u001b[0m dunder_all \u001b[38;5;241m=\u001b[39m dunder_all_concat(modules)\n\u001b[0;32m    119\u001b[0m \u001b[38;5;28;01mfor\u001b[39;00m module \u001b[38;5;129;01min\u001b[39;00m modules:\n",
      "File \u001b[1;32mc:\\Users\\Mihai\\anaconda3\\Lib\\site-packages\\audiolazy\\_internals.py:59\u001b[0m, in \u001b[0;36mget_modules\u001b[1;34m(package_name, module_names)\u001b[0m\n\u001b[0;32m     57\u001b[0m \u001b[38;5;28;01mdef\u001b[39;00m \u001b[38;5;21mget_module\u001b[39m(name):\n\u001b[0;32m     58\u001b[0m   \u001b[38;5;28;01mreturn\u001b[39;00m \u001b[38;5;28m__import__\u001b[39m(\u001b[38;5;124m\"\u001b[39m\u001b[38;5;124m.\u001b[39m\u001b[38;5;124m\"\u001b[39m\u001b[38;5;241m.\u001b[39mjoin([package_name, name]), fromlist\u001b[38;5;241m=\u001b[39m[package_name])\n\u001b[1;32m---> 59\u001b[0m \u001b[38;5;28;01mreturn\u001b[39;00m [get_module(name) \u001b[38;5;28;01mfor\u001b[39;00m name \u001b[38;5;129;01min\u001b[39;00m module_names]\n",
      "File \u001b[1;32mc:\\Users\\Mihai\\anaconda3\\Lib\\site-packages\\audiolazy\\_internals.py:59\u001b[0m, in \u001b[0;36m<listcomp>\u001b[1;34m(.0)\u001b[0m\n\u001b[0;32m     57\u001b[0m \u001b[38;5;28;01mdef\u001b[39;00m \u001b[38;5;21mget_module\u001b[39m(name):\n\u001b[0;32m     58\u001b[0m   \u001b[38;5;28;01mreturn\u001b[39;00m \u001b[38;5;28m__import__\u001b[39m(\u001b[38;5;124m\"\u001b[39m\u001b[38;5;124m.\u001b[39m\u001b[38;5;124m\"\u001b[39m\u001b[38;5;241m.\u001b[39mjoin([package_name, name]), fromlist\u001b[38;5;241m=\u001b[39m[package_name])\n\u001b[1;32m---> 59\u001b[0m \u001b[38;5;28;01mreturn\u001b[39;00m [get_module(name) \u001b[38;5;28;01mfor\u001b[39;00m name \u001b[38;5;129;01min\u001b[39;00m module_names]\n",
      "File \u001b[1;32mc:\\Users\\Mihai\\anaconda3\\Lib\\site-packages\\audiolazy\\_internals.py:58\u001b[0m, in \u001b[0;36mget_modules.<locals>.get_module\u001b[1;34m(name)\u001b[0m\n\u001b[0;32m     57\u001b[0m \u001b[38;5;28;01mdef\u001b[39;00m \u001b[38;5;21mget_module\u001b[39m(name):\n\u001b[1;32m---> 58\u001b[0m   \u001b[38;5;28;01mreturn\u001b[39;00m \u001b[38;5;28m__import__\u001b[39m(\u001b[38;5;124m\"\u001b[39m\u001b[38;5;124m.\u001b[39m\u001b[38;5;124m\"\u001b[39m\u001b[38;5;241m.\u001b[39mjoin([package_name, name]), fromlist\u001b[38;5;241m=\u001b[39m[package_name])\n",
      "File \u001b[1;32mc:\\Users\\Mihai\\anaconda3\\Lib\\site-packages\\audiolazy\\lazy_analysis.py:23\u001b[0m\n\u001b[0;32m     20\u001b[0m \u001b[38;5;28;01mfrom\u001b[39;00m \u001b[38;5;21;01m__future__\u001b[39;00m \u001b[38;5;28;01mimport\u001b[39;00m division\n\u001b[0;32m     22\u001b[0m \u001b[38;5;28;01mfrom\u001b[39;00m \u001b[38;5;21;01mmath\u001b[39;00m \u001b[38;5;28;01mimport\u001b[39;00m sin, cos, pi\n\u001b[1;32m---> 23\u001b[0m \u001b[38;5;28;01mfrom\u001b[39;00m \u001b[38;5;21;01mcollections\u001b[39;00m \u001b[38;5;28;01mimport\u001b[39;00m deque, Sequence, Iterable\n\u001b[0;32m     24\u001b[0m \u001b[38;5;28;01mfrom\u001b[39;00m \u001b[38;5;21;01mfunctools\u001b[39;00m \u001b[38;5;28;01mimport\u001b[39;00m wraps, reduce\n\u001b[0;32m     25\u001b[0m \u001b[38;5;28;01mfrom\u001b[39;00m \u001b[38;5;21;01mitertools\u001b[39;00m \u001b[38;5;28;01mimport\u001b[39;00m chain\n",
      "\u001b[1;31mImportError\u001b[0m: cannot import name 'Sequence' from 'collections' (c:\\Users\\Mihai\\anaconda3\\Lib\\collections\\__init__.py)"
     ]
    }
   ],
   "source": [
    "import numpy as np\n",
    "import matplotlib.pyplot as plt\n",
    "import librosa as lb\n",
    "from scipy.fftpack import fft\n",
    "import sounddevice as sd\n",
    "from scipy.signal import hann, hamming\n",
    "\n",
    "from audiolazy import lazy_lpc as lpc"
   ]
  },
  {
   "cell_type": "code",
   "execution_count": null,
   "id": "a6b8d441",
   "metadata": {},
   "outputs": [],
   "source": [
    "# provided functions\n",
    "def est_predictor_gain(x, a, p):\n",
    "    '''\n",
    "    A function to compute gain of the residual signal in LP analysis.\n",
    "    x:  signal \n",
    "    a: LPC coefficients\n",
    "    p: order of the filter\n",
    "    '''\n",
    "    cor = np.correlate(x, x, mode='full')\n",
    "    \n",
    "    rr = cor[len(cor)//2: len(cor)//2+p+1]\n",
    "    g = np.sqrt(np.sum(a*rr))\n",
    "    return g\n",
    "\n",
    "   \n",
    "    \n",
    "def reject_outliers(data, m=2):\n",
    "    '''\n",
    "    Function to reject outliers. All values beyond m standard deviations from mean are excluded\n",
    "    '''\n",
    "    return data[abs(data - np.mean(data)) < m * np.std(data)]"
   ]
  },
  {
   "cell_type": "markdown",
   "id": "543af64d",
   "metadata": {},
   "source": [
    "### 1. Linear prediction analysis. (1 point) "
   ]
  },
  {
   "cell_type": "code",
   "execution_count": 1,
   "id": "ce350942",
   "metadata": {},
   "outputs": [
    {
     "ename": "NameError",
     "evalue": "name 'lb' is not defined",
     "output_type": "error",
     "traceback": [
      "\u001b[1;31m---------------------------------------------------------------------------\u001b[0m",
      "\u001b[1;31mNameError\u001b[0m                                 Traceback (most recent call last)",
      "Cell \u001b[1;32mIn[1], line 2\u001b[0m\n\u001b[0;32m      1\u001b[0m \u001b[38;5;66;03m# Read audio\u001b[39;00m\n\u001b[1;32m----> 2\u001b[0m audioIn, fs \u001b[38;5;241m=\u001b[39m lb\u001b[38;5;241m.\u001b[39mload(\u001b[38;5;124m'\u001b[39m\u001b[38;5;124maudio.wav\u001b[39m\u001b[38;5;124m'\u001b[39m, sr\u001b[38;5;241m=\u001b[39m\u001b[38;5;28;01mNone\u001b[39;00m)   \n\u001b[0;32m      4\u001b[0m \u001b[38;5;66;03m# filter order\u001b[39;00m\n\u001b[0;32m      5\u001b[0m p \u001b[38;5;241m=\u001b[39m \u001b[38;5;241m4\u001b[39m  \u001b[38;5;66;03m# d) has to be tuned\u001b[39;00m\n",
      "\u001b[1;31mNameError\u001b[0m: name 'lb' is not defined"
     ]
    }
   ],
   "source": [
    "# Read audio\n",
    "audioIn, fs = lb.load('audio.wav', sr=None)   \n",
    "\n",
    "# filter order\n",
    "p = 4  # d) has to be tuned\n",
    "p_values = [4, 8, 12]\n",
    "# number of DFT points\n",
    "nfft = 1024\n",
    "\n",
    "inInd =0\n",
    "wLen = int(0.02*fs) # 20 ms window\n",
    "hop_length = int(wLen / 2)  # 50% overlap\n",
    "win = hamming(wLen)\n",
    "\n",
    "cnt = 0\n",
    "num_frames = int(np.ceil((len(audioIn) - wLen) / hop_length))\n",
    "formants_per_order = {p: [] for p in p_values}\n",
    "\n",
    "# choose a representative frame of the vowel\n",
    "plot_frame_idx = num_frames // 2\n",
    "\n",
    "for p in p_values:\n",
    "    inInd = 0\n",
    "    cnt = 0\n",
    "    \n",
    "    while inInd < len(audioIn) - wLen:\n",
    "        # Extract frame\n",
    "        frame = audioIn[inInd:inInd + wLen] * win\n",
    "\n",
    "        # a) Compute LPC coefficients and gain\n",
    "        lpc_result = lpc.lpc.autocor(frame, p)\n",
    "        a = np.array(lpc_result.numerator)\n",
    "        gain = est_predictor_gain(frame, a, p)\n",
    "\n",
    "        # b) Compute filter transfer function\n",
    "        w, h = freqz(gain, a, worN=nfft, fs=fs)\n",
    "\n",
    "        # c) Select a frame and plot FFT and LPC spectra\n",
    "        if cnt == plot_frame_idx:\n",
    "            # Compute FFT of the frame\n",
    "            fft_spectrum = np.abs(fft(frame, nfft))[:nfft//2]\n",
    "            fft_db = 20 * np.log10(fft_spectrum)\n",
    "            \n",
    "            lpc_spectrum = np.abs(h)\n",
    "            lpc_db = 20 * np.log10(lpc_spectrum)\n",
    "\n",
    "            plt.figure()\n",
    "            plt.plot(np.linspace(0, fs / 2, len(fft_db)), fft_db, label=\"FFT Spectrum (dB)\")\n",
    "            plt.plot(w, lpc_db, label=f\"LPC Spectrum (dB, Order {p})\")\n",
    "            plt.title(f\"FFT vs LPC Spectrum (Order {p})\")\n",
    "            plt.xlabel(\"Frequency (Hz)\")\n",
    "            plt.ylabel(\"Magnitude (dB)\")\n",
    "            plt.legend()\n",
    "            plt.show()\n",
    "\n",
    "        # Formant estimation\n",
    "        roots = np.roots(a)\n",
    "        formant_freqs = np.angle(roots[np.imag(roots) >= 0]) * (fs / (2 * np.pi))\n",
    "        valid_formants = formant_freqs[formant_freqs > 90]  # Filter out low frequencies\n",
    "        formants_per_order[p].append(valid_formants[:3])  # First three formants\n",
    "        \n",
    "        inInd += hop_length\n",
    "        cnt += 1\n",
    "        "
   ]
  },
  {
   "cell_type": "markdown",
   "id": "fe8cd199",
   "metadata": {},
   "source": [
    "#### d) Comment of the connection between lpc model order and peaks in the DFT spectrum."
   ]
  },
  {
   "cell_type": "code",
   "execution_count": null,
   "id": "5ba9ba77",
   "metadata": {},
   "outputs": [],
   "source": []
  },
  {
   "cell_type": "markdown",
   "id": "a3ba1102",
   "metadata": {},
   "source": [
    "#### Is the best order selection dependent on the vowel or not?"
   ]
  },
  {
   "cell_type": "code",
   "execution_count": null,
   "id": "454c1b7c",
   "metadata": {},
   "outputs": [],
   "source": []
  },
  {
   "cell_type": "markdown",
   "id": "8825e687",
   "metadata": {},
   "source": [
    "### 2. Formant analysis. (1 point)"
   ]
  },
  {
   "cell_type": "markdown",
   "id": "b8c73d6a",
   "metadata": {},
   "source": [
    "#### Add more steps in the previous analysis loop"
   ]
  },
  {
   "cell_type": "code",
   "execution_count": null,
   "id": "fa5d8b14",
   "metadata": {},
   "outputs": [],
   "source": [
    "# Read audio\n",
    "audioIn, fs = lb.load('audio.wav', sr=None)   \n",
    "\n",
    "# filter order\n",
    "p = 4  # d) has to be tuned\n",
    "\n",
    "# number of DFT points\n",
    "nfft = 1024\n",
    "\n",
    "inInd =0\n",
    "wLen = int(0.02*fs) # 20 ms window\n",
    "win = hamming(wLen) # hamming window for example\n",
    "\n",
    "cnt = 0\n",
    "numframes = np.ceil( (len(audioIn)-wLen)/(wLen/2)) # number of franes \n",
    "formants  = []                                     # A placeholder for storing formants\n",
    "\n",
    "# choose a representative frame of the vowel\n",
    "plot_frame = int(numframes/2)  # middle of the vowel\n",
    "\n",
    "# The analysis loop\n",
    "while inInd< len(audioIn)-wLen:\n",
    "    # audio frame\n",
    "    frame = audioIn[inInd:inInd+wLen]* win\n",
    "    \n",
    "    \n",
    "    # Compute LPC and gain using audiolazy library\n",
    "    \n",
    " \n",
    "    # Compute the filter tansfer function using scipy.signal.freqz\n",
    " \n",
    "    \n",
    "    # Compute DFT spectrum\n",
    "    \n",
    "    \n",
    "    # a) Compute roots (np.roots)\n",
    "       \n",
    " \n",
    "    # LPC coefficients are real-valued, the roots occur in complex conjugate pairs.\n",
    "    # Retain only the roots with +ve sign for the imaginary part \n",
    "    \n",
    "    \n",
    "    # b.1) compute formants from roots (np.angle)\n",
    "    \n",
    "\n",
    "    # convert to Hertz from angular frequencies\n",
    "    angz = angz*(fs/(2*np.pi))\n",
    "\n",
    "    # sort the formants in increasing order\n",
    "    angz = np.sort(angz)\n",
    "    \n",
    "    # remove zero frequencies\n",
    "    angz = angz[angz !=0]\n",
    "    \n",
    "    # b.2) Save first three formants\n",
    "    formants.append(angz[:3]) \n",
    "    \n",
    "    inInd = inInd + int(wLen/2) # frame advance\n",
    "       \n",
    "\n",
    "        \n",
    "\n",
    "formants = np.array(formants)\n",
    "# b.3) For each separate vowel calculate average formant frequencies\n",
    "print('------ The computed formants are :', np.mean(formants, 0))\n",
    "\n",
    "# Refine formant estimations (optional)"
   ]
  },
  {
   "cell_type": "markdown",
   "id": "bb078e8d",
   "metadata": {},
   "source": [
    "#### b.4) Compare the obtained values with the indicative values. "
   ]
  },
  {
   "cell_type": "code",
   "execution_count": null,
   "id": "69431a16",
   "metadata": {},
   "outputs": [],
   "source": []
  },
  {
   "cell_type": "markdown",
   "id": "e8e3415d",
   "metadata": {},
   "source": [
    "### Bonus problem: What happens if you apply LPC to the oboe sound? What are the corresponding \"formants\"?"
   ]
  },
  {
   "cell_type": "code",
   "execution_count": null,
   "id": "425c622f",
   "metadata": {},
   "outputs": [],
   "source": []
  }
 ],
 "metadata": {
  "kernelspec": {
   "display_name": "base",
   "language": "python",
   "name": "python3"
  },
  "language_info": {
   "codemirror_mode": {
    "name": "ipython",
    "version": 3
   },
   "file_extension": ".py",
   "mimetype": "text/x-python",
   "name": "python",
   "nbconvert_exporter": "python",
   "pygments_lexer": "ipython3",
   "version": "3.11.5"
  }
 },
 "nbformat": 4,
 "nbformat_minor": 5
}
