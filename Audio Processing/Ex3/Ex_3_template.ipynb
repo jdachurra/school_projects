{
 "cells": [
  {
   "cell_type": "code",
   "execution_count": 1,
   "id": "91224c4c",
   "metadata": {},
   "outputs": [],
   "source": [
    "import numpy as np\n",
    "import matplotlib.pyplot as plt\n",
    "import librosa as lb\n",
    "from scipy.fftpack import fft\n",
    "import sounddevice as sd\n",
    "#from scipy.signal import hann"
   ]
  },
  {
   "cell_type": "markdown",
   "id": "9d3cb1a3",
   "metadata": {},
   "source": [
    "### 1. Implementing the ADSR Envelope (0.5 points)"
   ]
  },
  {
   "cell_type": "code",
   "execution_count": null,
   "id": "f598779a",
   "metadata": {},
   "outputs": [],
   "source": [
    "def plot_signal(t, x):\n",
    "    \"\"\"\n",
    "    Plots the given signal x against time t.\n",
    "    \n",
    "    Parameters:\n",
    "    - t: Time vector\n",
    "    - x: Signal (either original or enveloped)\n",
    "    \"\"\"\n",
    "    plt.figure(figsize=(10, 4))\n",
    "    plt.plot(t, x)\n",
    "    plt.title(\"Signal vs Time\")\n",
    "    plt.xlabel(\"Time (seconds)\")\n",
    "    plt.ylabel(\"Amplitude\")\n",
    "    plt.grid(True)\n",
    "    plt.show()\n",
    "def plot_envelope(t_env, env):\n",
    "    \"\"\"\n",
    "    Plots the ADSR envelope against time t_env.\n",
    "    \n",
    "    Parameters:\n",
    "    - t_env: Time vector for the ADSR envelope\n",
    "    - env: ADSR envelope values\n",
    "    \"\"\"\n",
    "    plt.figure(figsize=(10, 4))\n",
    "    plt.plot(t_env, env)\n",
    "    plt.title(\"ADSR Envelope vs Time\")\n",
    "    plt.xlabel(\"Time (seconds)\")\n",
    "    plt.ylabel(\"Envelope Amplitude\")\n",
    "    plt.grid(True)\n",
    "    plt.show()\n",
    "    \n"
   ]
  },
  {
   "cell_type": "markdown",
   "id": "5823c500",
   "metadata": {},
   "source": [
    "## Taask 1.1 : Implement the ADSR envelope function"
   ]
  },
  {
   "cell_type": "code",
   "execution_count": null,
   "id": "0f1f989f",
   "metadata": {},
   "outputs": [
    {
     "ename": "SyntaxError",
     "evalue": "invalid syntax (2020953095.py, line 15)",
     "output_type": "error",
     "traceback": [
      "\u001b[1;36m  Cell \u001b[1;32mIn[2], line 15\u001b[1;36m\u001b[0m\n\u001b[1;33m    env_attack =  # Generate envelope 'env_attack' linearly from 0 to 1 for the attack phase\u001b[0m\n\u001b[1;37m                  ^\u001b[0m\n\u001b[1;31mSyntaxError\u001b[0m\u001b[1;31m:\u001b[0m invalid syntax\n"
     ]
    }
   ],
   "source": [
    "# Function to create ADSR envelope\n",
    "def envelope(a, d, s, sd, r, fs):\n",
    "    # a: Attack duration (seconds)\n",
    "    # d: Decay duration (seconds)\n",
    "    # s: Sustain level (range [0,1])\n",
    "    # sd: Sustain duration (seconds)\n",
    "    # r: Release duration (seconds)\n",
    "    # fs: Sampling frequency (Hz)\n",
    "    # return: t_env, env\n",
    "\n",
    "    # Step 1: Generate time vector for the Attack phase\n",
    "    # Create a time vector 't_attack' from 0 to 'a' seconds, with step size 1/fs\n",
    "    t_attack = np.arange(0, a, 1/fs)\n",
    "    t_attack = [(x/fs) for x in range(a/fs) ]\n",
    "    env_attack =  # Generate envelope 'env_attack' linearly from 0 to 1 for the attack phase\n",
    "\n",
    "    # Step 2: Generate time vector for the Decay phase\n",
    "    t_decay =  # Create a time vector 't_decay' from 'a' to 'a + d' seconds, with step size 1/fs\n",
    "    env_decay =  # Generate envelope 'env_decay' linearly from 1 to sustain level 's' for the decay phase\n",
    "\n",
    "    # Step 3: Generate time vector for the Sustain phase\n",
    "    t_sustain =  # Create a time vector 't_sustain' from 'a + d' to 'a + d + sd' seconds, with step size 1/fs\n",
    "    env_sustain =  # Generate envelope 'env_sustain' with a constant value 's' for the sustain phase\n",
    "\n",
    "    # Step 4: Generate time vector for the Release phase\n",
    "    t_release =  # Create a time vector 't_release' from 'a + d + sd' to 'a + d + sd + r' seconds, with step size 1/fs\n",
    "    env_release =  # Generate envelope 'env_release' linearly from sustain level 's' to 0 for the release phase\n",
    "\n",
    "    # Step 5: Concatenate all parts into the final time vector and envelope\n",
    "    t_env =  # Concatenate the time vectors t_attack, t_decay, t_sustain, t_release into a final time vector 't_env'\n",
    "    env =  # Concatenate the envelope parts env_attack, env_decay, env_sustain, env_release into the final envelope 'env'\n",
    "\n",
    "    # Return the final time vector and ADSR envelope\n",
    "    return t_env, env\n"
   ]
  },
  {
   "cell_type": "markdown",
   "id": "beec9538",
   "metadata": {},
   "source": [
    "## Task 1.2 : Implement synthesized signal function"
   ]
  },
  {
   "cell_type": "code",
   "execution_count": null,
   "id": "96a2fe04",
   "metadata": {},
   "outputs": [],
   "source": [
    "# Function to generate synthesized signal x(t) using harmonics\n",
    "def synthesize_signal(f0, N, fs, duration):\n",
    "    # f0: Fundamental frequency (Hz)\n",
    "    # N: Number of harmonics\n",
    "    # fs: Sampling frequency (Hz)\n",
    "    # duration: Duration of the signal (seconds)\n",
    "\n",
    "    # Step 1: Generate the time vector for the signal\n",
    "    t =  # Create a time vector 't' from 0 to 'duration' seconds, with step size 1/fs\n",
    "\n",
    "    # Step 2: Initialize the signal as an array of zeros\n",
    "    x_t =  # Initialize 'x_t' with zeros having the same length as 't'\n",
    "\n",
    "    # Step 3: For each harmonic k, generate a sine wave and add it to the signal\n",
    "    for k in range(1, N + 1):  # Loop from k = 1 to N to generate harmonics and add them to 'x_t'\n",
    "        a_k =  # Generate a random amplitude 'a_k' for the k-th harmonic\n",
    "        phi_k =  # Generate a random phase 'phi_k' for the k-th harmonic\n",
    "        x_t =  # Add the k-th harmonic sine wave to the signal 'x_t'\n",
    "\n",
    "    # Step 4: Return the time vector and the synthesized signal\n",
    "    return t, x_t\n",
    "\n"
   ]
  },
  {
   "cell_type": "markdown",
   "id": "de2456f6",
   "metadata": {},
   "source": [
    "## Task 1.3: generate ADSR envelope and plot it"
   ]
  },
  {
   "cell_type": "code",
   "execution_count": null,
   "id": "bd3545a7",
   "metadata": {},
   "outputs": [],
   "source": [
    "# Main Program to Implement ADSR and Synthesized Signal\n",
    "# Step 1: Define the fundamental frequency and number of harmonics\n",
    "f0 =   # A4 note fundamental frequency \n",
    "N =  # Number of harmonics to use \n",
    "\n",
    "# Step 2: Define the sampling frequency and duration\n",
    "fs =   # Sampling frequency (samples per second)\n",
    "duration = 1  # Duration of the signal in seconds\n",
    "\n",
    "# Step 3: Generate the synthesized signal x(t)\n",
    "t, x = synthesize_signal(f0, N, fs, duration)\n",
    "\n",
    "# Step 4: Define the ADSR parameters (a, d, s, sd, r)\n",
    "a = 0.2  # Attack duration in seconds\n",
    "d = 0.2  # Decay duration in seconds\n",
    "s = 0.7  # Sustain level (0 to 1)\n",
    "sd = 0.4  # Sustain duration in seconds\n",
    "r = 0.2  # Release duration in seconds\n",
    "\n",
    "# Step 5: Generate the ADSR envelope\n",
    "t_env, env = envelope(a, d, s, sd, r, fs)\n",
    "\n",
    "# Step 6: Apply the ADSR envelope to the synthesized signal\n",
    "x_enveloped =  # Multiply the original signal 'x' by the envelope 'env' to get the enveloped signal 'x_enveloped'\n",
    "\n",
    "# Step 7: Plot the original signal, ADSR envelope, and the enveloped signal\n",
    "plot_signal(t, x)  # Plot the original synthesized signal\n",
    "plot_envelope(t_env, env)  # Plot the ADSR envelope\n",
    "plot_signal(t, x_enveloped)  # Plot the enveloped signal\n"
   ]
  },
  {
   "cell_type": "code",
   "execution_count": null,
   "id": "dbbcb962",
   "metadata": {},
   "outputs": [],
   "source": []
  },
  {
   "cell_type": "markdown",
   "id": "c1f43176",
   "metadata": {},
   "source": [
    "#### Auxiliary functions"
   ]
  },
  {
   "cell_type": "code",
   "execution_count": null,
   "id": "cf96d920",
   "metadata": {},
   "outputs": [],
   "source": [
    "def princarg(phase_in):\n",
    "    \"\"\"\n",
    "    Computes principle argument,  wraps phase to (-pi, pi]\n",
    "    \"\"\"\n",
    "    phase = np.mod(phase_in + np.pi,-2*np.pi)+np.pi;\n",
    "    return phase\n",
    "  \n",
    "\n",
    "def delta_phi_(Phase_current, Phase_previous, winHopAn, wLen):\n",
    "    \"\"\"\n",
    "    Function for calculating unwrapped phase difference between consecutive frames\n",
    "    \n",
    "    Phase_current: current frame phase\n",
    "    Phase_previous: previous frame phase\n",
    "    winHopAn: Analysis hop length\n",
    "    wLen: window length\n",
    "    \"\"\"\n",
    "    \n",
    "    # nominal phase increment for the analysis hop size for each bin\n",
    "    omega = 2*np.pi*(winHopAn/wLen)*np.arange(0, wLen)\n",
    "    delta_phi = omega + princarg(Phase_current-Phase_previous-omega)\n",
    "    \n",
    "    return delta_phi"
   ]
  },
  {
   "cell_type": "markdown",
   "id": "5e2ad385",
   "metadata": {},
   "source": [
    "### 2. Implement a time stretching algorithm using phase vocoder. (1.5 points)"
   ]
  },
  {
   "cell_type": "code",
   "execution_count": null,
   "id": "a9d04e06",
   "metadata": {},
   "outputs": [],
   "source": [
    "   \n",
    "audioIn, fs = lb.load('audio.wav', sr=None)   # read audio\n",
    "\n",
    "audioOut = np.zeros(len(audioIn))      # placeholder for reconstructed audio\n",
    "wLen = int(0.032*fs)                   # window length\n",
    "winAn = np.sqrt(hann(wLen, sym=False)) # analysis window\n",
    "winSyn = winAn\n",
    "\n",
    "\n",
    "winHopAn = int(0.008*fs)             # Hop length or frame advance\n",
    "inInd = 0\n",
    "\n",
    "R = #winHopSyn / winHopAn;\n",
    "\n",
    "while inInd< len(audioIn)-wLen:\n",
    "    # selct the frame and multiply with window function\n",
    "    frame = audioIn[inInd:inInd+wLen]* winAn \n",
    "\n",
    "    # compute DFT\n",
    "    f = fft(frame)\n",
    "\n",
    "    # save magnitudes and phases\n",
    "    mag_f = np.abs(f)\n",
    "    phi0 = np.angle(f) \n",
    "\n",
    "    ####################\n",
    "    # processing in spectral domain \n",
    "    #######################\n",
    "\n",
    "    # Recover the complex FFT back\n",
    "    ft = (abs(f)* np.exp(1j*phi0))  \n",
    "\n",
    "    # inverse DFT and windowing\n",
    "    frame = np.real(ifft(ft))*winSyn\n",
    "\n",
    "    # Ovelap add\n",
    "    audioOut[inInd :inInd +wLen] =  audioOut[inInd :inInd +wLen] + frame\n",
    "\n",
    "    # frame advance by winHopAn\n",
    "    inInd = inInd + winHopAn"
   ]
  },
  {
   "cell_type": "code",
   "execution_count": null,
   "id": "9104db1b",
   "metadata": {},
   "outputs": [],
   "source": [
    "sd.play(audioIn, fs)"
   ]
  },
  {
   "cell_type": "code",
   "execution_count": null,
   "id": "9fa90cc3",
   "metadata": {},
   "outputs": [],
   "source": [
    "sd.play(audioOut, fs)"
   ]
  },
  {
   "cell_type": "markdown",
   "id": "292c0fa0",
   "metadata": {},
   "source": [
    "### Bonus question: Add pitch shifting"
   ]
  },
  {
   "cell_type": "code",
   "execution_count": null,
   "id": "66039545",
   "metadata": {},
   "outputs": [],
   "source": []
  }
 ],
 "metadata": {
  "kernelspec": {
   "display_name": "Python 3",
   "language": "python",
   "name": "python3"
  },
  "language_info": {
   "codemirror_mode": {
    "name": "ipython",
    "version": 3
   },
   "file_extension": ".py",
   "mimetype": "text/x-python",
   "name": "python",
   "nbconvert_exporter": "python",
   "pygments_lexer": "ipython3",
   "version": "3.9.13"
  }
 },
 "nbformat": 4,
 "nbformat_minor": 5
}
