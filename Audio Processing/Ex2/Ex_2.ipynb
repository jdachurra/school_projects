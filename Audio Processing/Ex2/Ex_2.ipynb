{
 "cells": [
  {
   "cell_type": "code",
   "execution_count": null,
   "id": "43456f91",
   "metadata": {},
   "outputs": [],
   "source": [
    "# import libraries\n",
    "import numpy as np\n",
    "import matplotlib.pyplot as plt \n",
    "from scipy.fftpack import fft,ifft\n",
    "\n",
    "from scipy.io import wavfile\n",
    "import librosa\n",
    "import librosa.display\n"
   ]
  },
  {
   "cell_type": "code",
   "execution_count": null,
   "id": "6f4440c7",
   "metadata": {},
   "outputs": [],
   "source": [
    "# A function to plot signal\n",
    "\"\"\"\n",
    "def plot_signal(s, i):\n",
    "    plt.figure()\n",
    "    plt.plot(time_axis[i*hop_size:(i*hop_size+win_size)],s)\n",
    "    plt.xlabel('Time (s)')\n",
    "    plt.ylabel('Amplitude')\n",
    "    \n",
    "\"\"\"\n",
    "\n",
    "# A function to plot spectrogram   \n",
    "def plot_spectrogram(spectrogram, title):\n",
    "    plt.figure()\n",
    "    plt.imshow(spectrogram, aspect = 'auto', origin = 'lower', cmap = \"inferno\")\n",
    "    plt.xlabel('Time (s)')\n",
    "    plt.ylabel('Frequency (Hz)')\n",
    "    plt.colorbar(label= \"Power\")   \n",
    "    plt.title(title)\n",
    "    plt.show()"
   ]
  },
  {
   "cell_type": "markdown",
   "id": "b845a448",
   "metadata": {},
   "source": [
    "### 1.  Implement a function to compute power spectrogram. (1 point)"
   ]
  },
  {
   "cell_type": "code",
   "execution_count": null,
   "id": "10b5ea88",
   "metadata": {},
   "outputs": [],
   "source": [
    "# Read audio\n",
    "sample_rate, audio_data = wavfile.read('audio1.wav')\n",
    "\n",
    "#Normalize audio\n",
    "audio_data = audio_data / np.max(np.abs(audio_data))\n",
    "\n",
    "\n",
    "\n",
    "# Set parameters\n",
    "time_axis = np.arange(0, len(audio_data)/sample_rate, 1/sample_rate)\n",
    "win_size = int(sample_rate * 0.1)\n",
    "window = np.hamming(win_size)\n",
    "hop_size = int(win_size/2)\n",
    "nfft = win_size\n",
    "nframes = int((len(audio_data) - win_size)/hop_size)\n",
    "\n",
    "\n",
    "# Initialize the power spectrogram\n",
    "power_spectrogram = np.zeros((int(nfft/2), nframes))\n",
    "\n",
    "# Loop through the frames\n",
    "for i in np.arange(0, nframes):\n",
    "    # Select audio frame\n",
    "    segment = audio_data[i*hop_size:(i*hop_size+win_size)]\n",
    "\n",
    "##\n",
    "\n",
    "    # a) Multiply each signal frame with a windowing function.\n",
    "    segment_wind = segment * window\n",
    "    \n",
    "    # DFT spectrum\n",
    "    spectrum = fft(segment_wind, nfft)\n",
    "    # Select a frame and plot the spectrum with and without windowing.\n",
    "    magnitude_spectrum = np.abs(spectrum[0:int(nfft/2)])\n",
    "    if i == 0:\n",
    "        plot_signal(segment, i)\n",
    "        plot_signal(segment_wind, i)\n",
    "        plot_spectrogram(magnitude_spectrum, \"Magnitude Spectrum\")\n",
    "    \n",
    "    \n",
    "    # c) Collect the power spectrum into a matrix.\n",
    "    power_spectrum = magnitude_spectrum**2\n",
    "    power_spectrogram[:,i] = power_spectrum"
   ]
  },
  {
   "cell_type": "markdown",
   "id": "ed0f2317",
   "metadata": {},
   "source": [
    "#### Plot the matrix (power_spectrogram) as an image."
   ]
  },
  {
   "cell_type": "code",
   "execution_count": null,
   "id": "6ae4211d",
   "metadata": {},
   "outputs": [],
   "source": [
    "plot_spectrogram(power_spectrogram, \"Power Spectrogram\")"
   ]
  },
  {
   "cell_type": "markdown",
   "id": "c6fb67de",
   "metadata": {},
   "source": [
    "#### Plot the logarithm of the matrix."
   ]
  },
  {
   "cell_type": "code",
   "execution_count": null,
   "id": "4938ef7b",
   "metadata": {},
   "outputs": [],
   "source": [
    "plot_spectrogram( np.log(power_spectrogram) , \"Log Power Spectrogram\")"
   ]
  },
  {
   "cell_type": "markdown",
   "id": "0d62d0bb",
   "metadata": {},
   "source": [
    "#### What differences do you observe?"
   ]
  },
  {
   "cell_type": "code",
   "execution_count": null,
   "id": "3214c045",
   "metadata": {},
   "outputs": [],
   "source": []
  },
  {
   "cell_type": "markdown",
   "id": "fb37908b",
   "metadata": {},
   "source": [
    "### 2.  Analyse the effect of window size on the spectrum. (1 point)"
   ]
  },
  {
   "cell_type": "markdown",
   "id": "a435afca",
   "metadata": {},
   "source": [
    "#### a) Calculate spectrogram with librosa and nfft=window size"
   ]
  },
  {
   "cell_type": "code",
   "execution_count": null,
   "id": "963b70b5",
   "metadata": {},
   "outputs": [],
   "source": []
  },
  {
   "cell_type": "markdown",
   "id": "0ab6b0a1",
   "metadata": {},
   "source": [
    "#### Are there any differences from your own implementation?"
   ]
  },
  {
   "cell_type": "code",
   "execution_count": null,
   "id": "320a98b6",
   "metadata": {},
   "outputs": [],
   "source": []
  },
  {
   "cell_type": "markdown",
   "id": "4afcb515",
   "metadata": {},
   "source": [
    "#### b) Apply your implementation with different window sizes (16ms, 32ms, 64ms and 128ms) to different signals (audio1, audio2 and synthetic sinusoids from exercise 1)"
   ]
  },
  {
   "cell_type": "markdown",
   "id": "aa31617d",
   "metadata": {},
   "source": [
    "#### Note. You can define your implementation from problem 1 as a function and call it for each of the signals."
   ]
  },
  {
   "cell_type": "code",
   "execution_count": null,
   "id": "fc29aac0",
   "metadata": {},
   "outputs": [],
   "source": []
  },
  {
   "cell_type": "markdown",
   "id": "69a4f146",
   "metadata": {},
   "source": [
    "#### c) What happens when the window size is increased?"
   ]
  },
  {
   "cell_type": "code",
   "execution_count": null,
   "id": "8288d21a",
   "metadata": {},
   "outputs": [],
   "source": []
  },
  {
   "cell_type": "markdown",
   "id": "c0d0603c",
   "metadata": {},
   "source": [
    "#### What analysis window lenght is best for each of the signal types?"
   ]
  },
  {
   "cell_type": "code",
   "execution_count": null,
   "id": "35c659e3",
   "metadata": {},
   "outputs": [],
   "source": []
  },
  {
   "cell_type": "markdown",
   "id": "d977984e",
   "metadata": {},
   "source": [
    "### Bonus problem: Implement overlap-add reconstruction"
   ]
  },
  {
   "cell_type": "code",
   "execution_count": null,
   "id": "1069fd45",
   "metadata": {},
   "outputs": [],
   "source": []
  }
 ],
 "metadata": {
  "kernelspec": {
   "display_name": "Python 3",
   "language": "python",
   "name": "python3"
  },
  "language_info": {
   "codemirror_mode": {
    "name": "ipython",
    "version": 3
   },
   "file_extension": ".py",
   "mimetype": "text/x-python",
   "name": "python",
   "nbconvert_exporter": "python",
   "pygments_lexer": "ipython3",
   "version": "3.9.13"
  }
 },
 "nbformat": 4,
 "nbformat_minor": 5
}
